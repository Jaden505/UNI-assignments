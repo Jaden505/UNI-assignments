{
 "cells": [
  {
   "cell_type": "markdown",
   "id": "c58247bc",
   "metadata": {},
   "source": [
    "# Optical character recognition\n",
    "This project demonstrates how to predict character from a 5x5 matrix, represented as as vector of n=25 using an only mathematical approach. Only the charracters J, D and N will be used for recognition. Inner products, correlation matrices and dot products are at the center of this project.\n",
    "By Jaden van Rijswijk."
   ]
  },
  {
   "cell_type": "code",
   "execution_count": 83,
   "id": "a41aaa58",
   "metadata": {},
   "outputs": [],
   "source": [
    "import numpy as np\n",
    "import random\n",
    "import math\n",
    "import pandas as pd\n",
    "import seaborn as sns"
   ]
  },
  {
   "cell_type": "code",
   "execution_count": null,
   "id": "4e223930",
   "metadata": {},
   "outputs": [],
   "source": [
    "def visualise_character(character) -> None:\n",
    "    for i in range(5):\n",
    "        for j in range(5):\n",
    "            if character[i*5 + j] > 0.5:\n",
    "                print(\"█\", end=\"\")\n",
    "            else:\n",
    "                print(\" \", end=\"\")\n",
    "        print()\n",
    "        \n",
    "def visualise_probability_matrix(character) -> None:\n",
    "    for i in range(5):\n",
    "        for j in range(5):\n",
    "            print(f\"{character[i*5 + j]:.2f} \", end=\"\")\n",
    "        print()\n",
    "        \n",
    "def make_blurred(character, blur_level=0.2, min_value=0) -> list[int]:\n",
    "    blurred_character = []\n",
    "    for value in character:\n",
    "        if value > 0.5:\n",
    "            blurred_character.append(random.uniform(max(min_value, value - blur_level), 1))\n",
    "        else:\n",
    "            blurred_character.append(value)\n",
    "            \n",
    "    assert len(blurred_character) == 25\n",
    "    return blurred_character\n",
    "\n",
    "def make_noisy(character, noise_level=0.2, max_value=1) -> list[int]:\n",
    "    noisy_character = []\n",
    "    for value in character:\n",
    "        if value < 0.5:\n",
    "            noisy_character.append(random.uniform(0, min(value + noise_level, max_value)))\n",
    "        else:\n",
    "            noisy_character.append(value)\n",
    "            \n",
    "    assert len(noisy_character) == 25\n",
    "    return noisy_character"
   ]
  },
  {
   "cell_type": "code",
   "execution_count": null,
   "id": "9e491c49",
   "metadata": {},
   "outputs": [],
   "source": [
    "noise_level = 0.3\n",
    "blur_level = 0.3\n",
    "chars = ['j', 'd', 'n']\n",
    "\n",
    "j_perfect = [1,1,1,1,1,0,0,0,0,1,0,0,0,0,1,1,0,0,0,1,0,1,1,1,1]\n",
    "d_perfect = [1,1,1,1,0,1,0,0,0,1,1,0,0,0,1,1,0,0,0,1,1,1,1,1,0]\n",
    "n_perfect = [1,0,0,0,1,1,1,0,0,1,1,0,1,0,1,1,0,0,1,1,1,0,0,0,1]\n",
    "\n",
    "assert len(j_perfect) == 25\n",
    "assert len(d_perfect) == 25\n",
    "assert len(n_perfect) == 25\n",
    "\n",
    "char_vectors = {}\n",
    "\n",
    "\n",
    "for c in chars:\n",
    "    char_vectors.update({\n",
    "        f\"{c}_perfect\": eval(f\"{c}_perfect\"),\n",
    "        f\"{c}_noisy\": make_noisy(eval(f\"{c}_perfect\"), noise_level),\n",
    "        f\"{c}_blurred\": make_blurred(eval(f\"{c}_perfect\"), blur_level),\n",
    "        f\"{c}_noisy_blurred\": make_noisy(make_blurred(eval(f\"{c}_perfect\"), blur_level), noise_level)\n",
    "    })"
   ]
  },
  {
   "cell_type": "code",
   "execution_count": null,
   "id": "fb1d576d",
   "metadata": {},
   "outputs": [
    {
     "data": {
      "text/plain": [
       "<Axes: >"
      ]
     },
     "execution_count": 90,
     "metadata": {},
     "output_type": "execute_result"
    },
    {
     "data": {
      "image/png": "[encoded data removed]",
      "text/plain": [
       "<Figure size 640x480 with 2 Axes>"
      ]
     },
     "metadata": {},
     "output_type": "display_data"
    }
   ],
   "source": [
    "def magnitude(c):\n",
    "    sum_squares = sum([x**2 for x in c])\n",
    "    return math.sqrt(sum_squares)\n",
    "\n",
    "def inner_product(x, y):\n",
    "    return sum([x_i* y_i for x_i, y_i in zip(x, y)])\n",
    "\n",
    "def cosine_similarity(x, y):\n",
    "    return inner_product(x, y) / (magnitude(x) * magnitude(y))\n",
    "\n",
    "def make_correlation_matrix():\n",
    "    correlations = pd.DataFrame(columns=\n",
    "    for char, variants in all_characters.items():\n",
    "        for variant in variants:\n",
    "            for target_char, target_variants in all_characters.items():\n",
    "                for target_variant in target_variants:\n",
    "                    correlations.loc[char, target_char] = cosine_similarity(variant, target_variant)\n",
    "    return correlations\n",
    "\n",
    "correlation_matrix = make_correlation_matrix()\n",
    "sns.heatmap(correlation_matrix.astype(float), annot=True, cmap=\"YlGnBu\")"
   ]
  }
 ],
 "metadata": {
  "kernelspec": {
   "display_name": ".venv",
   "language": "python",
   "name": "python3"
  },
  "language_info": {
   "codemirror_mode": {
    "name": "ipython",
    "version": 3
   },
   "file_extension": ".py",
   "mimetype": "text/x-python",
   "name": "python",
   "nbconvert_exporter": "python",
   "pygments_lexer": "ipython3",
   "version": "3.13.2"
  }
 },
 "nbformat": 4,
 "nbformat_minor": 5
}
