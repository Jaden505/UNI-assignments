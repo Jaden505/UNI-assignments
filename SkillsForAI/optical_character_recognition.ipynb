{
 "cells": [
  {
   "cell_type": "markdown",
   "id": "c58247bc",
   "metadata": {},
   "source": [
    "# Optical character recognition\n",
    "This project demonstrates how to predict character from a 5x5 matrix, represented as as vector of n=25 using an only mathematical approach. Only the charracters J, D and N will be used for recognition. Inner products, correlation matrices and dot products are at the center of this project.\n",
    "By Jaden van Rijswijk."
   ]
  },
  {
   "cell_type": "code",
   "execution_count": 30,
   "id": "a41aaa58",
   "metadata": {},
   "outputs": [],
   "source": [
    "import numpy as np\n",
    "import random"
   ]
  },
  {
   "cell_type": "code",
   "execution_count": 60,
   "id": "4e223930",
   "metadata": {},
   "outputs": [],
   "source": [
    "def visualise_character(character):\n",
    "    for i in range(5):\n",
    "        for j in range(5):\n",
    "            if character[i*5 + j] > 0.5:\n",
    "                print(\"█\", end=\"\")\n",
    "            else:\n",
    "                print(\" \", end=\"\")\n",
    "        print()\n",
    "        \n",
    "def visualise_probability_matrix(character):\n",
    "    for i in range(5):\n",
    "        for j in range(5):\n",
    "            print(f\"{character[i*5 + j]:.2f} \", end=\"\")\n",
    "        print()\n",
    "        \n",
    "def make_blurred(character, blur_level=0.2, min_value=0):\n",
    "    blurred_character = []\n",
    "    for value in character:\n",
    "        if value > 0.5:\n",
    "            blurred_character.append(random.uniform(max(min_value, value - blur_level), 1))\n",
    "        else:\n",
    "            blurred_character.append(value)\n",
    "            \n",
    "    assert len(blurred_character) == 25\n",
    "    return blurred_character\n",
    "\n",
    "def make_noisy(character, noise_level=0.2, max_value=1):\n",
    "    noisy_character = []\n",
    "    for value in character:\n",
    "        if value < 0.5:\n",
    "            noisy_character.append(random.uniform(0, min(value + noise_level, max_value)))\n",
    "        else:\n",
    "            noisy_character.append(value)\n",
    "            \n",
    "    assert len(noisy_character) == 25\n",
    "    return noisy_character"
   ]
  },
  {
   "cell_type": "code",
   "execution_count": 61,
   "id": "9e491c49",
   "metadata": {},
   "outputs": [],
   "source": [
    "j_perfect = [1,1,1,1,1,0,0,0,0,1,0,0,0,0,1,1,0,0,0,1,0,1,1,1,1]\n",
    "d_perfect = [1,1,1,1,0,1,0,0,0,1,1,0,0,0,1,1,0,0,0,1,1,1,1,1,0]\n",
    "n_perfect = [1,0,0,0,1,1,1,0,0,1,1,0,1,0,1,1,0,0,1,1,1,0,0,0,1]\n",
    "\n",
    "j_blurred = make_blurred(j_perfect, blur_level=0.3)\n",
    "j_noisy = make_noisy(j_perfect, noise_level=0.3)\n",
    "j_noisy_blurred = make_noisy(j_blurred, noise_level=0.3)\n",
    "\n",
    "d_blurred = make_blurred(d_perfect, blur_level=0.3)\n",
    "d_noisy = make_noisy(d_perfect, noise_level=0.3)\n",
    "d_noisy_blurred = make_noisy(d_blurred, noise_level=0.3)\n",
    "\n",
    "n_blurred = make_blurred(n_perfect, blur_level=0.3)\n",
    "n_noisy = make_noisy(n_perfect, noise_level=0.3)\n",
    "n_noisy_blurred = make_noisy(n_blurred, noise_level=0.3)\n",
    "\n",
    "assert len(j_perfect) == 25\n",
    "assert len(d_perfect) == 25\n",
    "assert len(n_perfect) == 25"
   ]
  },
  {
   "cell_type": "code",
   "execution_count": 64,
   "id": "3c6b8d9f",
   "metadata": {},
   "outputs": [
    {
     "name": "stdout",
     "output_type": "stream",
     "text": [
      "█████\n",
      "    █\n",
      "    █\n",
      "█   █\n",
      " ████\n",
      "None\n",
      "0.76 0.77 0.78 0.86 0.76 \n",
      "0.09 0.19 0.29 0.29 0.84 \n",
      "0.19 0.16 0.05 0.07 0.97 \n",
      "0.99 0.15 0.11 0.28 0.71 \n",
      "0.27 0.87 0.84 0.88 0.71 \n",
      "None\n"
     ]
    }
   ],
   "source": [
    "print(visualise_character(j_perfect))\n",
    "print(visualise_probability_matrix(j_noisy_blurred))"
   ]
  },
  {
   "cell_type": "code",
   "execution_count": null,
   "id": "fb1d576d",
   "metadata": {},
   "outputs": [],
   "source": []
  }
 ],
 "metadata": {
  "kernelspec": {
   "display_name": ".venv",
   "language": "python",
   "name": "python3"
  },
  "language_info": {
   "codemirror_mode": {
    "name": "ipython",
    "version": 3
   },
   "file_extension": ".py",
   "mimetype": "text/x-python",
   "name": "python",
   "nbconvert_exporter": "python",
   "pygments_lexer": "ipython3",
   "version": "3.13.2"
  }
 },
 "nbformat": 4,
 "nbformat_minor": 5
}
