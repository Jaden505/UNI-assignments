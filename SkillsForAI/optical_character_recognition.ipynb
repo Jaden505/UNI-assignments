{
 "cells": [
  {
   "cell_type": "markdown",
   "id": "c58247bc",
   "metadata": {},
   "source": [
    "# Optical character recognition\n",
    "This project demonstrates how to predict character from a 5x5 matrix, represented as as vector of n=25 using an only mathematical approach. Only the charracters J, D and N will be used for recognition. Inner products, correlation matrices and dot products are at the center of this project.\n",
    "By Jaden van Rijswijk."
   ]
  },
  {
   "cell_type": "code",
   "execution_count": 73,
   "id": "a41aaa58",
   "metadata": {},
   "outputs": [],
   "source": [
    "import numpy as np\n",
    "import random\n",
    "from sklearn import metrics\n",
    "import math"
   ]
  },
  {
   "cell_type": "code",
   "execution_count": null,
   "id": "4e223930",
   "metadata": {},
   "outputs": [],
   "source": [
    "def visualise_character(character) -> None:\n",
    "    for i in range(5):\n",
    "        for j in range(5):\n",
    "            if character[i*5 + j] > 0.5:\n",
    "                print(\"█\", end=\"\")\n",
    "            else:\n",
    "                print(\" \", end=\"\")\n",
    "        print()\n",
    "        \n",
    "def visualise_probability_matrix(character) -> None:\n",
    "    for i in range(5):\n",
    "        for j in range(5):\n",
    "            print(f\"{character[i*5 + j]:.2f} \", end=\"\")\n",
    "        print()\n",
    "        \n",
    "def make_blurred(character, blur_level=0.2, min_value=0) -> list[int]:\n",
    "    blurred_character = []\n",
    "    for value in character:\n",
    "        if value > 0.5:\n",
    "            blurred_character.append(random.uniform(max(min_value, value - blur_level), 1))\n",
    "        else:\n",
    "            blurred_character.append(value)\n",
    "            \n",
    "    assert len(blurred_character) == 25\n",
    "    return blurred_character\n",
    "\n",
    "def make_noisy(character, noise_level=0.2, max_value=1) -> list[int]:\n",
    "    noisy_character = []\n",
    "    for value in character:\n",
    "        if value < 0.5:\n",
    "            noisy_character.append(random.uniform(0, min(value + noise_level, max_value)))\n",
    "        else:\n",
    "            noisy_character.append(value)\n",
    "            \n",
    "    assert len(noisy_character) == 25\n",
    "    return noisy_character"
   ]
  },
  {
   "cell_type": "code",
   "execution_count": null,
   "id": "9e491c49",
   "metadata": {},
   "outputs": [],
   "source": [
    "noise_level = 0.3\n",
    "blur_level = 0.3\n",
    "\n",
    "j_perfect = [1,1,1,1,1,0,0,0,0,1,0,0,0,0,1,1,0,0,0,1,0,1,1,1,1]\n",
    "d_perfect = [1,1,1,1,0,1,0,0,0,1,1,0,0,0,1,1,0,0,0,1,1,1,1,1,0]\n",
    "n_perfect = [1,0,0,0,1,1,1,0,0,1,1,0,1,0,1,1,0,0,1,1,1,0,0,0,1]\n",
    "\n",
    "assert len(j_perfect) == 25\n",
    "assert len(d_perfect) == 25\n",
    "assert len(n_perfect) == 25\n",
    "\n",
    "j_blurred = make_blurred(j_perfect, blur_level=blur_level)\n",
    "j_noisy = make_noisy(j_perfect, noise_level=noise_level)\n",
    "j_noisy_blurred = make_noisy(j_blurred, noise_level=noise_level)\n",
    "\n",
    "d_blurred = make_blurred(d_perfect, blur_level=blur_level)\n",
    "d_noisy = make_noisy(d_perfect, noise_level=noise_level)\n",
    "d_noisy_blurred = make_noisy(d_blurred, noise_level=noise_level)\n",
    "\n",
    "n_blurred = make_blurred(n_perfect, blur_level=blur_level)\n",
    "n_noisy = make_noisy(n_perfect, noise_level=noise_level)\n",
    "n_noisy_blurred = make_noisy(n_blurred, noise_level=noise_level)\n",
    "\n",
    "all_characters = {\n",
    "    'j': [j_perfect, j_blurred, j_noisy, j_noisy_blurred],\n",
    "    'd': [d_perfect, d_blurred, d_noisy, d_noisy_blurred],\n",
    "    'n': [n_perfect, n_blurred, n_noisy, n_noisy_blurred],\n",
    "}"
   ]
  },
  {
   "cell_type": "code",
   "execution_count": 69,
   "id": "3c6b8d9f",
   "metadata": {},
   "outputs": [
    {
     "name": "stdout",
     "output_type": "stream",
     "text": [
      "█████\n",
      "    █\n",
      "    █\n",
      "█   █\n",
      " ████\n",
      "None\n",
      "0.76 0.94 0.98 0.75 0.79 \n",
      "0.10 0.10 0.02 0.08 0.80 \n",
      "0.29 0.09 0.07 0.18 0.78 \n",
      "0.72 0.20 0.15 0.15 0.87 \n",
      "0.20 0.84 0.75 0.87 0.85 \n",
      "None\n"
     ]
    }
   ],
   "source": [
    "print(visualise_character(j_perfect))\n",
    "print(visualise_probability_matrix(j_noisy_blurred))"
   ]
  },
  {
   "cell_type": "code",
   "execution_count": null,
   "id": "fb1d576d",
   "metadata": {},
   "outputs": [
    {
     "ename": "ValueError",
     "evalue": "continuous is not supported",
     "output_type": "error",
     "traceback": [
      "\u001b[31m---------------------------------------------------------------------------\u001b[39m",
      "\u001b[31mValueError\u001b[39m                                Traceback (most recent call last)",
      "\u001b[36mCell\u001b[39m\u001b[36m \u001b[39m\u001b[32mIn[72]\u001b[39m\u001b[32m, line 5\u001b[39m\n\u001b[32m      2\u001b[39m     confusion_matrix = metrics.confusion_matrix(j_noisy, j_blurred)\n\u001b[32m      3\u001b[39m     \u001b[38;5;28mprint\u001b[39m(confusion_matrix)    \n\u001b[32m----> \u001b[39m\u001b[32m5\u001b[39m \u001b[43msimilarity_vectors\u001b[49m\u001b[43m(\u001b[49m\u001b[43mj_noisy_blurred\u001b[49m\u001b[43m)\u001b[49m\n",
      "\u001b[36mCell\u001b[39m\u001b[36m \u001b[39m\u001b[32mIn[72]\u001b[39m\u001b[32m, line 2\u001b[39m, in \u001b[36msimilarity_vectors\u001b[39m\u001b[34m(input_char)\u001b[39m\n\u001b[32m      1\u001b[39m \u001b[38;5;28;01mdef\u001b[39;00m\u001b[38;5;250m \u001b[39m\u001b[34msimilarity_vectors\u001b[39m(input_char):\n\u001b[32m----> \u001b[39m\u001b[32m2\u001b[39m     confusion_matrix = \u001b[43mmetrics\u001b[49m\u001b[43m.\u001b[49m\u001b[43mconfusion_matrix\u001b[49m\u001b[43m(\u001b[49m\u001b[43mj_noisy\u001b[49m\u001b[43m,\u001b[49m\u001b[43m \u001b[49m\u001b[43mj_blurred\u001b[49m\u001b[43m)\u001b[49m\n\u001b[32m      3\u001b[39m     \u001b[38;5;28mprint\u001b[39m(confusion_matrix)\n",
      "\u001b[36mFile \u001b[39m\u001b[32m~/Assignments-VU-AI/.venv/lib/python3.13/site-packages/sklearn/utils/_param_validation.py:218\u001b[39m, in \u001b[36mvalidate_params.<locals>.decorator.<locals>.wrapper\u001b[39m\u001b[34m(*args, **kwargs)\u001b[39m\n\u001b[32m    212\u001b[39m \u001b[38;5;28;01mtry\u001b[39;00m:\n\u001b[32m    213\u001b[39m     \u001b[38;5;28;01mwith\u001b[39;00m config_context(\n\u001b[32m    214\u001b[39m         skip_parameter_validation=(\n\u001b[32m    215\u001b[39m             prefer_skip_nested_validation \u001b[38;5;129;01mor\u001b[39;00m global_skip_validation\n\u001b[32m    216\u001b[39m         )\n\u001b[32m    217\u001b[39m     ):\n\u001b[32m--> \u001b[39m\u001b[32m218\u001b[39m         \u001b[38;5;28;01mreturn\u001b[39;00m \u001b[43mfunc\u001b[49m\u001b[43m(\u001b[49m\u001b[43m*\u001b[49m\u001b[43margs\u001b[49m\u001b[43m,\u001b[49m\u001b[43m \u001b[49m\u001b[43m*\u001b[49m\u001b[43m*\u001b[49m\u001b[43mkwargs\u001b[49m\u001b[43m)\u001b[49m\n\u001b[32m    219\u001b[39m \u001b[38;5;28;01mexcept\u001b[39;00m InvalidParameterError \u001b[38;5;28;01mas\u001b[39;00m e:\n\u001b[32m    220\u001b[39m     \u001b[38;5;66;03m# When the function is just a wrapper around an estimator, we allow\u001b[39;00m\n\u001b[32m    221\u001b[39m     \u001b[38;5;66;03m# the function to delegate validation to the estimator, but we replace\u001b[39;00m\n\u001b[32m    222\u001b[39m     \u001b[38;5;66;03m# the name of the estimator by the name of the function in the error\u001b[39;00m\n\u001b[32m    223\u001b[39m     \u001b[38;5;66;03m# message to avoid confusion.\u001b[39;00m\n\u001b[32m    224\u001b[39m     msg = re.sub(\n\u001b[32m    225\u001b[39m         \u001b[33mr\u001b[39m\u001b[33m\"\u001b[39m\u001b[33mparameter of \u001b[39m\u001b[33m\\\u001b[39m\u001b[33mw+ must be\u001b[39m\u001b[33m\"\u001b[39m,\n\u001b[32m    226\u001b[39m         \u001b[33mf\u001b[39m\u001b[33m\"\u001b[39m\u001b[33mparameter of \u001b[39m\u001b[38;5;132;01m{\u001b[39;00mfunc.\u001b[34m__qualname__\u001b[39m\u001b[38;5;132;01m}\u001b[39;00m\u001b[33m must be\u001b[39m\u001b[33m\"\u001b[39m,\n\u001b[32m    227\u001b[39m         \u001b[38;5;28mstr\u001b[39m(e),\n\u001b[32m    228\u001b[39m     )\n",
      "\u001b[36mFile \u001b[39m\u001b[32m~/Assignments-VU-AI/.venv/lib/python3.13/site-packages/sklearn/metrics/_classification.py:467\u001b[39m, in \u001b[36mconfusion_matrix\u001b[39m\u001b[34m(y_true, y_pred, labels, sample_weight, normalize)\u001b[39m\n\u001b[32m    384\u001b[39m \u001b[38;5;250m\u001b[39m\u001b[33;03m\"\"\"Compute confusion matrix to evaluate the accuracy of a classification.\u001b[39;00m\n\u001b[32m    385\u001b[39m \n\u001b[32m    386\u001b[39m \u001b[33;03mBy definition a confusion matrix :math:`C` is such that :math:`C_{i, j}`\u001b[39;00m\n\u001b[32m   (...)\u001b[39m\u001b[32m    464\u001b[39m \u001b[33;03m(0, 2, 1, 1)\u001b[39;00m\n\u001b[32m    465\u001b[39m \u001b[33;03m\"\"\"\u001b[39;00m\n\u001b[32m    466\u001b[39m y_true, y_pred = attach_unique(y_true, y_pred)\n\u001b[32m--> \u001b[39m\u001b[32m467\u001b[39m y_type, y_true, y_pred = \u001b[43m_check_targets\u001b[49m\u001b[43m(\u001b[49m\u001b[43my_true\u001b[49m\u001b[43m,\u001b[49m\u001b[43m \u001b[49m\u001b[43my_pred\u001b[49m\u001b[43m)\u001b[49m\n\u001b[32m    468\u001b[39m \u001b[38;5;28;01mif\u001b[39;00m y_type \u001b[38;5;129;01mnot\u001b[39;00m \u001b[38;5;129;01min\u001b[39;00m (\u001b[33m\"\u001b[39m\u001b[33mbinary\u001b[39m\u001b[33m\"\u001b[39m, \u001b[33m\"\u001b[39m\u001b[33mmulticlass\u001b[39m\u001b[33m\"\u001b[39m):\n\u001b[32m    469\u001b[39m     \u001b[38;5;28;01mraise\u001b[39;00m \u001b[38;5;167;01mValueError\u001b[39;00m(\u001b[33m\"\u001b[39m\u001b[38;5;132;01m%s\u001b[39;00m\u001b[33m is not supported\u001b[39m\u001b[33m\"\u001b[39m % y_type)\n",
      "\u001b[36mFile \u001b[39m\u001b[32m~/Assignments-VU-AI/.venv/lib/python3.13/site-packages/sklearn/metrics/_classification.py:117\u001b[39m, in \u001b[36m_check_targets\u001b[39m\u001b[34m(y_true, y_pred)\u001b[39m\n\u001b[32m    115\u001b[39m \u001b[38;5;66;03m# No metrics support \"multiclass-multioutput\" format\u001b[39;00m\n\u001b[32m    116\u001b[39m \u001b[38;5;28;01mif\u001b[39;00m y_type \u001b[38;5;129;01mnot\u001b[39;00m \u001b[38;5;129;01min\u001b[39;00m [\u001b[33m\"\u001b[39m\u001b[33mbinary\u001b[39m\u001b[33m\"\u001b[39m, \u001b[33m\"\u001b[39m\u001b[33mmulticlass\u001b[39m\u001b[33m\"\u001b[39m, \u001b[33m\"\u001b[39m\u001b[33mmultilabel-indicator\u001b[39m\u001b[33m\"\u001b[39m]:\n\u001b[32m--> \u001b[39m\u001b[32m117\u001b[39m     \u001b[38;5;28;01mraise\u001b[39;00m \u001b[38;5;167;01mValueError\u001b[39;00m(\u001b[33m\"\u001b[39m\u001b[38;5;132;01m{0}\u001b[39;00m\u001b[33m is not supported\u001b[39m\u001b[33m\"\u001b[39m.format(y_type))\n\u001b[32m    119\u001b[39m \u001b[38;5;28;01mif\u001b[39;00m y_type \u001b[38;5;129;01min\u001b[39;00m [\u001b[33m\"\u001b[39m\u001b[33mbinary\u001b[39m\u001b[33m\"\u001b[39m, \u001b[33m\"\u001b[39m\u001b[33mmulticlass\u001b[39m\u001b[33m\"\u001b[39m]:\n\u001b[32m    120\u001b[39m     xp, _ = get_namespace(y_true, y_pred)\n",
      "\u001b[31mValueError\u001b[39m: continuous is not supported"
     ]
    }
   ],
   "source": [
    "def magnitude(character):\n",
    "    sum_squares = sum([x**2 for x in character])\n",
    "    return math.sqrt(sum_squares)\n",
    "\n",
    "def inner_product(x, y):\n",
    "    return sum([x_i* y_i for x_i, y_i in zip(x, y)])\n",
    "\n",
    "def cosine_similarity(x, y):\n",
    "    return inner_product(x, y) / (magnitude(x) * magnitude(y))\n",
    "\n",
    "def find_similarities(character, character_set):\n",
    "    similarities = []\n",
    "    for other_character in character_set:\n",
    "        similarity = cosine_similarity(character, other_character)\n",
    "        similarities.append(similarity)\n",
    "    return similarities"
   ]
  }
 ],
 "metadata": {
  "kernelspec": {
   "display_name": ".venv",
   "language": "python",
   "name": "python3"
  },
  "language_info": {
   "codemirror_mode": {
    "name": "ipython",
    "version": 3
   },
   "file_extension": ".py",
   "mimetype": "text/x-python",
   "name": "python",
   "nbconvert_exporter": "python",
   "pygments_lexer": "ipython3",
   "version": "3.13.2"
  }
 },
 "nbformat": 4,
 "nbformat_minor": 5
}
